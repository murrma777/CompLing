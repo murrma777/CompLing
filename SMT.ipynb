{
  "nbformat": 4,
  "nbformat_minor": 0,
  "metadata": {
    "colab": {
      "provenance": [],
      "authorship_tag": "ABX9TyOD74zJwJMndpBbS9a0GeJ3",
      "include_colab_link": true
    },
    "kernelspec": {
      "name": "python3",
      "display_name": "Python 3"
    },
    "language_info": {
      "name": "python"
    }
  },
  "cells": [
    {
      "cell_type": "markdown",
      "metadata": {
        "id": "view-in-github",
        "colab_type": "text"
      },
      "source": [
        "<a href=\"https://colab.research.google.com/github/murrma777/CompLing/blob/main/SMT.ipynb\" target=\"_parent\"><img src=\"https://colab.research.google.com/assets/colab-badge.svg\" alt=\"Open In Colab\"/></a>"
      ]
    },
    {
      "cell_type": "code",
      "execution_count": null,
      "metadata": {
        "id": "x-_s7fU4NvS5"
      },
      "outputs": [],
      "source": []
    },
    {
      "cell_type": "markdown",
      "source": [
        "# **SMT шпаргалка**\n",
        "\n",
        "SMT — статистический машинный перевод\n",
        "\n",
        "Переводы генерируются на основе **статистических моделей**. Параметры этих моделей получают в результате **анализа двуязычных корпусов   **\n",
        "\n",
        "Противопоставляется системам МП Rule-Based Machine Translation (RBMT) и Example-Based MT (EBMT)"
      ],
      "metadata": {
        "id": "RClK2hsi6zDC"
      }
    },
    {
      "cell_type": "markdown",
      "source": [
        "# **Компоненты SMT**\n",
        "\n",
        "*   Модификации n-граммной модели\n",
        "*   Модель перевода (t-model) (*статистика*)\n",
        "\n",
        "*   Поиск правдоподобных соответствий\n",
        "*   *Декодер* — поиск среди всех наиболее грамматичных и лексическ правдоподобных соответствий\n",
        "\n",
        "\n",
        "\n",
        "\n",
        "\n"
      ],
      "metadata": {
        "id": "KwuHboI68PIK"
      }
    },
    {
      "cell_type": "markdown",
      "source": [
        "# **Процесс работы SMT**\n",
        "\n",
        "\n",
        "\n",
        "1.   Входной текст на языке X разбивается на фразы\n",
        "2.   Фразы сопоставляются с их параллельными эквивалентами из модели перевода\n",
        "3. Языковая модель подтверждает вероятность перевода на язык вывода Y\n",
        "\n",
        "\n",
        "\n"
      ],
      "metadata": {
        "id": "gk4mfd6c9NVR"
      }
    }
  ]
}